{
 "cells": [
  {
   "metadata": {
    "ExecuteTime": {
     "end_time": "2025-10-06T11:06:56.694542800Z",
     "start_time": "2025-10-06T11:06:56.599495400Z"
    }
   },
   "cell_type": "code",
   "source": [
    "val l: List<Int> = listOf(27,32,10,32)\n",
    "10 in l\n",
    "l + 56"
   ],
   "outputs": [
    {
     "data": {
      "text/plain": [
       "[27, 32, 10, 32, 56]"
      ]
     },
     "execution_count": 11,
     "metadata": {},
     "output_type": "execute_result"
    }
   ],
   "execution_count": 11
  },
  {
   "metadata": {
    "ExecuteTime": {
     "end_time": "2025-10-06T11:07:41.135279500Z",
     "start_time": "2025-10-06T11:07:41.074893700Z"
    }
   },
   "cell_type": "code",
   "source": "l - 32",
   "outputs": [
    {
     "data": {
      "text/plain": [
       "[27, 10, 32]"
      ]
     },
     "execution_count": 12,
     "metadata": {},
     "output_type": "execute_result"
    }
   ],
   "execution_count": 12
  },
  {
   "metadata": {
    "ExecuteTime": {
     "end_time": "2025-10-06T11:08:36.506367700Z",
     "start_time": "2025-10-06T11:08:36.374423600Z"
    }
   },
   "cell_type": "code",
   "source": "l + listOf(5,6,7)",
   "outputs": [
    {
     "data": {
      "text/plain": [
       "[27, 32, 10, 32, 5, 6, 7]"
      ]
     },
     "execution_count": 13,
     "metadata": {},
     "output_type": "execute_result"
    }
   ],
   "execution_count": 13
  },
  {
   "metadata": {
    "ExecuteTime": {
     "end_time": "2025-10-06T11:10:17.531453900Z",
     "start_time": "2025-10-06T11:10:17.422727600Z"
    }
   },
   "cell_type": "code",
   "source": "l - listOf(32, 27) + 100",
   "outputs": [
    {
     "data": {
      "text/plain": [
       "[10, 100]"
      ]
     },
     "execution_count": 15,
     "metadata": {},
     "output_type": "execute_result"
    }
   ],
   "execution_count": 15
  },
  {
   "metadata": {
    "ExecuteTime": {
     "end_time": "2025-10-06T11:12:17.765274400Z",
     "start_time": "2025-10-06T11:12:17.608325400Z"
    }
   },
   "cell_type": "code",
   "source": "l + (4..7)",
   "outputs": [
    {
     "data": {
      "text/plain": [
       "[27, 32, 10, 32, 4, 5, 6, 7]"
      ]
     },
     "execution_count": 16,
     "metadata": {},
     "output_type": "execute_result"
    }
   ],
   "execution_count": 16
  },
  {
   "metadata": {
    "ExecuteTime": {
     "end_time": "2025-10-06T11:13:47.885164800Z",
     "start_time": "2025-10-06T11:13:47.788753100Z"
    }
   },
   "cell_type": "code",
   "source": "(4..9) + listOf(1,5)",
   "outputs": [
    {
     "data": {
      "text/plain": [
       "[4, 5, 6, 7, 8, 9, 1, 5]"
      ]
     },
     "execution_count": 17,
     "metadata": {},
     "output_type": "execute_result"
    }
   ],
   "execution_count": 17
  },
  {
   "metadata": {
    "ExecuteTime": {
     "end_time": "2025-10-06T11:14:47.484274900Z",
     "start_time": "2025-10-06T11:14:47.408366600Z"
    }
   },
   "cell_type": "code",
   "source": "(7..9).toList()",
   "outputs": [
    {
     "data": {
      "text/plain": [
       "[7, 8, 9]"
      ]
     },
     "execution_count": 19,
     "metadata": {},
     "output_type": "execute_result"
    }
   ],
   "execution_count": 19
  },
  {
   "metadata": {
    "ExecuteTime": {
     "end_time": "2025-10-06T11:15:26.151321100Z",
     "start_time": "2025-10-06T11:15:26.085919500Z"
    }
   },
   "cell_type": "code",
   "source": "\"ISEL\".toList()",
   "outputs": [
    {
     "data": {
      "text/plain": [
       "[I, S, E, L]"
      ]
     },
     "execution_count": 20,
     "metadata": {},
     "output_type": "execute_result"
    }
   ],
   "execution_count": 20
  },
  {
   "metadata": {
    "ExecuteTime": {
     "end_time": "2025-10-06T11:16:27.731943400Z",
     "start_time": "2025-10-06T11:16:27.670127800Z"
    }
   },
   "cell_type": "code",
   "source": "l[0] + l[1]",
   "outputs": [
    {
     "data": {
      "text/plain": [
       "59"
      ]
     },
     "execution_count": 22,
     "metadata": {},
     "output_type": "execute_result"
    }
   ],
   "execution_count": 22
  },
  {
   "metadata": {
    "ExecuteTime": {
     "end_time": "2025-10-06T11:18:29.275830900Z",
     "start_time": "2025-10-06T11:18:29.199624100Z"
    }
   },
   "cell_type": "code",
   "source": "l.filter{ it <= 27 }",
   "outputs": [
    {
     "data": {
      "text/plain": [
       "[27, 10]"
      ]
     },
     "execution_count": 25,
     "metadata": {},
     "output_type": "execute_result"
    }
   ],
   "execution_count": 25
  },
  {
   "metadata": {
    "ExecuteTime": {
     "end_time": "2025-10-06T11:19:13.177270800Z",
     "start_time": "2025-10-06T11:19:13.029270Z"
    }
   },
   "cell_type": "code",
   "source": "l.map{ it*10 }",
   "outputs": [
    {
     "data": {
      "text/plain": [
       "[270, 320, 100, 320]"
      ]
     },
     "execution_count": 26,
     "metadata": {},
     "output_type": "execute_result"
    }
   ],
   "execution_count": 26
  },
  {
   "metadata": {
    "ExecuteTime": {
     "end_time": "2025-10-06T11:20:15.518782300Z",
     "start_time": "2025-10-06T11:20:15.436061800Z"
    }
   },
   "cell_type": "code",
   "source": "l.forEach { print(it) }",
   "outputs": [
    {
     "name": "stdout",
     "output_type": "stream",
     "text": [
      "27321032"
     ]
    }
   ],
   "execution_count": 27
  },
  {
   "metadata": {
    "ExecuteTime": {
     "end_time": "2025-10-06T11:21:26.607824600Z",
     "start_time": "2025-10-06T11:21:26.468175600Z"
    }
   },
   "cell_type": "code",
   "source": [
    "var sum=0\n",
    "l.forEach { sum+=it }\n",
    "sum"
   ],
   "outputs": [
    {
     "data": {
      "text/plain": [
       "101"
      ]
     },
     "execution_count": 28,
     "metadata": {},
     "output_type": "execute_result"
    }
   ],
   "execution_count": 28
  },
  {
   "metadata": {
    "ExecuteTime": {
     "end_time": "2025-10-06T11:21:58.429233400Z",
     "start_time": "2025-10-06T11:21:58.327992200Z"
    }
   },
   "cell_type": "code",
   "source": "l.sum()",
   "outputs": [
    {
     "data": {
      "text/plain": [
       "101"
      ]
     },
     "execution_count": 29,
     "metadata": {},
     "output_type": "execute_result"
    }
   ],
   "execution_count": 29
  },
  {
   "metadata": {
    "ExecuteTime": {
     "end_time": "2025-10-06T12:20:52.226951100Z",
     "start_time": "2025-10-06T12:20:51.975102800Z"
    }
   },
   "cell_type": "code",
   "source": "(1..10).toList().shuffled()",
   "outputs": [
    {
     "data": {
      "text/plain": [
       "[3, 9, 6, 2, 1, 10, 7, 5, 8, 4]"
      ]
     },
     "execution_count": 48,
     "metadata": {},
     "output_type": "execute_result"
    }
   ],
   "execution_count": 48
  },
  {
   "metadata": {
    "ExecuteTime": {
     "end_time": "2025-10-06T11:24:14.547598200Z",
     "start_time": "2025-10-06T11:24:14.492865400Z"
    }
   },
   "cell_type": "code",
   "source": "l.random()",
   "outputs": [
    {
     "data": {
      "text/plain": [
       "32"
      ]
     },
     "execution_count": 37,
     "metadata": {},
     "output_type": "execute_result"
    }
   ],
   "execution_count": 37
  },
  {
   "metadata": {
    "ExecuteTime": {
     "end_time": "2025-10-06T11:31:48.432038200Z",
     "start_time": "2025-10-06T11:31:48.297668200Z"
    }
   },
   "cell_type": "code",
   "source": [
    "val s = \"%#$=\"\n",
    "(s + s).toList().shuffled().joinToString(\"|\") { \"$it\" }\n"
   ],
   "outputs": [
    {
     "data": {
      "text/plain": [
       "#|%|$|$|=|=|#|%"
      ]
     },
     "execution_count": 47,
     "metadata": {},
     "output_type": "execute_result"
    }
   ],
   "execution_count": 47
  }
 ],
 "metadata": {
  "kernelspec": {
   "display_name": "Kotlin",
   "language": "kotlin",
   "name": "kotlin"
  },
  "language_info": {
   "name": "kotlin",
   "version": "2.2.20-Beta2",
   "mimetype": "text/x-kotlin",
   "file_extension": ".kt",
   "pygments_lexer": "kotlin",
   "codemirror_mode": "text/x-kotlin",
   "nbconvert_exporter": ""
  }
 },
 "nbformat": 4,
 "nbformat_minor": 0
}
